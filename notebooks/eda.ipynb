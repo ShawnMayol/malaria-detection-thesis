{
 "cells": [
  {
   "cell_type": "markdown",
   "id": "bfffe8e5",
   "metadata": {},
   "source": [
    "# Exploratory Data Analysis (EDA)\n",
    "This notebook provides an initial exploration of the malaria blood smear image dataset.  \n",
    "We aim to understand the data structure, visualize sample images, check class balance, and identify potential issues before building models."
   ]
  }
 ],
 "metadata": {
  "kernelspec": {
   "display_name": "venv",
   "language": "python",
   "name": "python3"
  },
  "language_info": {
   "name": "python",
   "version": "3.12.4"
  }
 },
 "nbformat": 4,
 "nbformat_minor": 5
}
